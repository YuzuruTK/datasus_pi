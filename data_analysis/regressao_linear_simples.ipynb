{
 "cells": [
  {
   "cell_type": "code",
   "execution_count": 2,
   "metadata": {},
   "outputs": [],
   "source": [
    "import pandas as pd\n",
    "from math import sqrt\n",
    "import seaborn as sns\n",
    "import duckdb\n",
    "\n",
    "query = \"\"\"\n",
    "select aei.ano, aei.mes, count(*) as atendimentos\n",
    "from main.atendimentos_em_ijui aei \n",
    "group by aei.ano, aei.mes \n",
    "order by aei.ano asc, aei.mes \n",
    "\"\"\""
   ]
  },
  {
   "cell_type": "code",
   "execution_count": 43,
   "metadata": {},
   "outputs": [],
   "source": [
    "database = duckdb.connect(\"database/database_pi.db\")\n",
    "\n",
    "rows = database.query(query).fetchall()"
   ]
  },
  {
   "cell_type": "code",
   "execution_count": 15,
   "metadata": {},
   "outputs": [],
   "source": [
    "dataframe = pd.read_csv(\"proportions.csv\")\n",
    "\n",
    "dataframe[\"proporcao\"] = dataframe[\"depressao\"] / dataframe[\"total\"]"
   ]
  },
  {
   "cell_type": "code",
   "execution_count": 23,
   "metadata": {},
   "outputs": [
    {
     "name": "stdout",
     "output_type": "stream",
     "text": [
      "Colunas para usar na análise logo abaixo ['total', 'depressao', 'ano', 'proporcao']\n",
      "   total  depressao   ano  proporcao\n",
      "0  13452        668  2014   0.049658\n",
      "1  65994       6810  2015   0.103191\n",
      "2  94558      15080  2016   0.159479\n",
      "3  55974       4120  2017   0.073606\n",
      "4  42960       3254  2018   0.075745\n",
      "5  47472       6002  2019   0.126432\n",
      "6  37684       5382  2020   0.142819\n",
      "7  12440       1444  2021   0.116077\n",
      "8  78982       7770  2023   0.098377\n"
     ]
    }
   ],
   "source": [
    "# dataframe = pd.DataFrame(rows, columns=[\"ano\",\"mes\",\"atendimentos\"])\n",
    "\n",
    "print(f\"Colunas para usar na análise logo abaixo {list(dataframe.columns)}\")\n",
    "\n",
    "\n",
    "# dataframe = dataframe.query(\"atendimentos > 500\")\n",
    "print(dataframe.head(10))\n",
    "\n",
    "column_x = \"ano\"\n",
    "column_y = \"proporcao\""
   ]
  },
  {
   "cell_type": "code",
   "execution_count": 25,
   "metadata": {},
   "outputs": [
    {
     "name": "stdout",
     "output_type": "stream",
     "text": [
      "\n",
      "N = 9\n",
      "Somatório de X = 18163\n",
      "Somatório de Y = 0.9453842352822319\n",
      "Somatório de X ao quadrado = 36655021\n",
      "Somatório de Y ao quadrado = 0.10923732053897674\n",
      "Somatório de X e Y = 1908.1368043775356\n",
      "\n",
      "part1 = 0.2463748851823766\n",
      "part2 = 8.299933065275951\n",
      "part3 = 0.0996574870525264\n",
      "\n",
      "Coeficiente de Correlação é = 0.29785981332968653\n"
     ]
    }
   ],
   "source": [
    "# COLOQUE AS COLUNAS QUE VC QUER USAR NESSE LUGAR AQUI Ó\n",
    "try:    \n",
    "    list_x = list(dataframe[column_x])\n",
    "    list_y = list(dataframe[column_y])\n",
    "\n",
    "    \n",
    "except: \n",
    "    list_x = list(dataframe[dataframe.columns[3]])\n",
    "    list_y = list(dataframe[dataframe.columns[4]])\n",
    "\n",
    "n = len(dataframe)\n",
    "print(f\"\\nN = {n}\")\n",
    "\n",
    "sum_of_x = sum(list_x)\n",
    "print(f\"Somatório de X = {sum_of_x}\")\n",
    "sum_of_y = sum(list_y)\n",
    "print(f\"Somatório de Y = {sum_of_y}\")\n",
    "\n",
    "sum_of_squared_x = sum([*map(lambda x : x**2, list_x)])\n",
    "print(f\"Somatório de X ao quadrado = {sum_of_squared_x}\")\n",
    "sum_of_squared_y = sum([*map(lambda y : y**2, list_y)])\n",
    "print(f\"Somatório de Y ao quadrado = {sum_of_squared_y}\")\n",
    "\n",
    "sum_of_xy = 0\n",
    "\n",
    "for i in range(n):\n",
    "    sum_of_xy += list_x[i] * list_y[i]\n",
    "\n",
    "print(f\"Somatório de X e Y = {sum_of_xy}\")\n",
    "\n",
    "part1 = sum_of_xy - ((sum_of_x * sum_of_y)/n)\n",
    "print(f\"\\npart1 = {part1}\")\n",
    "\n",
    "part2 = sqrt(sum_of_squared_x - ((sum_of_x**2)/n))\n",
    "print(f\"part2 = {part2}\")\n",
    "\n",
    "part3 = sqrt(sum_of_squared_y - ((sum_of_y**2)/n))\n",
    "print(f\"part3 = {part3}\\n\")\n",
    "\n",
    "\n",
    "correlation_coeficient = part1 / (part2 * part3)\n",
    "\n",
    "print(f\"Coeficiente de Correlação é = {correlation_coeficient}\")"
   ]
  },
  {
   "cell_type": "code",
   "execution_count": 26,
   "metadata": {},
   "outputs": [
    {
     "name": "stdout",
     "output_type": "stream",
     "text": [
      "Valor b é = 0.003576409623618078\n",
      "Valor a é = -7.112549306499213\n",
      "Valor do Coeficiente de Determinação = 8.87204683967957\n",
      "\n",
      "ou seja, a equação de reta que melhor Representa o conjunto de dados, é: \n",
      "\n",
      "Y = -7.11 + 0.0*x \n",
      "\n",
      "e ela representa o conjunto de dados em 8.87%\n"
     ]
    }
   ],
   "source": [
    "b = ((n* sum_of_xy) - (sum_of_x * sum_of_y)) / ((n * sum_of_squared_x) - (sum_of_x ** 2))\n",
    "\n",
    "print(f\"Valor b é = {b}\")\n",
    "\n",
    "a = (sum_of_y / n) - (b * (sum_of_x/n))\n",
    "print(f\"Valor a é = {a}\")\n",
    "\n",
    "determination_coeficient = (correlation_coeficient ** 2) * 100\n",
    "print(f\"Valor do Coeficiente de Determinação = {determination_coeficient}\\n\")\n",
    "\n",
    "print(f\"ou seja, a equação de reta que melhor Representa o conjunto de dados, é: \\n\\nY = {round(a,2)} + {round(b,2)}*x \\n\")\n",
    "print(f\"e ela representa o conjunto de dados em {round(determination_coeficient, 2)}%\")"
   ]
  },
  {
   "cell_type": "code",
   "execution_count": 27,
   "metadata": {},
   "outputs": [
    {
     "data": {
      "image/png": "[encoded data removed]",
      "text/plain": [
       "<Figure size 640x480 with 1 Axes>"
      ]
     },
     "metadata": {},
     "output_type": "display_data"
    }
   ],
   "source": [
    "values_list_for_line = {}\n",
    "for x in list_x:\n",
    "    values_list_for_line[x] = (a+ b*x)\n",
    "\n",
    "sns.scatterplot(data=dataframe, x=column_x,y=column_y)\n",
    "sns.lineplot(data=values_list_for_line)\n"
   ]
  }
 ],
 "metadata": {
  "kernelspec": {
   "display_name": ".venv",
   "language": "python",
   "name": "python3"
  },
  "language_info": {
   "codemirror_mode": {
    "name": "ipython",
    "version": 3
   },
   "file_extension": ".py",
   "mimetype": "text/x-python",
   "name": "python",
   "nbconvert_exporter": "python",
   "pygments_lexer": "ipython3",
   "version": "3.11.9"
  }
 },
 "nbformat": 4,
 "nbformat_minor": 2
}
